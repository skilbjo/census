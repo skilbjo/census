{
 "cells": [
  {
   "cell_type": "code",
   "execution_count": 161,
   "metadata": {
    "collapsed": false
   },
   "outputs": [],
   "source": [
    "%matplotlib inline\n",
    "import quandl\n",
    "import petl as etl\n",
    "import pandas as pd\n",
    "import matplotlib\n",
    "import matplotlib.pyplot as plt\n",
    "import datetime as dt\n",
    "import json\n",
    "from pprint import pprint"
   ]
  },
  {
   "cell_type": "code",
   "execution_count": 119,
   "metadata": {
    "collapsed": false
   },
   "outputs": [],
   "source": [
    "#gdp = quandl.get('FRED/GDP').to_json()\n",
    "gdp = quandl.get('FRED/GDP')\n",
    "#individual_irs = quandl.get('IRS/RETURNS_IND_CUR')"
   ]
  },
  {
   "cell_type": "code",
   "execution_count": 166,
   "metadata": {
    "collapsed": false
   },
   "outputs": [],
   "source": [
    "gdpp = pd.DataFrame(gdp)\n",
    "table = etl.fromdataframe(gdpp)"
   ]
  },
  {
   "cell_type": "code",
   "execution_count": 169,
   "metadata": {
    "collapsed": false
   },
   "outputs": [
    {
     "data": {
      "text/html": [
       "<table class='petl'>\n",
       "<thead>\n",
       "<tr>\n",
       "<th>DATE</th>\n",
       "<th>VALUE</th>\n",
       "</tr>\n",
       "</thead>\n",
       "<tbody>\n",
       "<tr>\n",
       "<td>None</td>\n",
       "<td style='text-align: right'>243.1</td>\n",
       "</tr>\n",
       "<tr>\n",
       "<td>None</td>\n",
       "<td style='text-align: right'>246.3</td>\n",
       "</tr>\n",
       "<tr>\n",
       "<td>None</td>\n",
       "<td style='text-align: right'>250.1</td>\n",
       "</tr>\n",
       "<tr>\n",
       "<td>None</td>\n",
       "<td style='text-align: right'>260.3</td>\n",
       "</tr>\n",
       "<tr>\n",
       "<td>None</td>\n",
       "<td style='text-align: right'>266.2</td>\n",
       "</tr>\n",
       "</tbody>\n",
       "</table>\n"
      ],
      "text/plain": [
       "+------+-------+\n",
       "| DATE | VALUE |\n",
       "+======+=======+\n",
       "| None | 243.1 |\n",
       "+------+-------+\n",
       "| None | 246.3 |\n",
       "+------+-------+\n",
       "| None | 250.1 |\n",
       "+------+-------+\n",
       "| None | 260.3 |\n",
       "+------+-------+\n",
       "| None | 266.2 |\n",
       "+------+-------+"
      ]
     },
     "execution_count": 169,
     "metadata": {},
     "output_type": "execute_result"
    }
   ],
   "source": [
    "#gdpp.reset_index(level=0, inplace=True)\n",
    "table = etl.fromdataframe(gdpp)\n",
    "table2 = etl.convert(table,{'DATE': lambda datestr: dt.datetime.strptime(datestr,'%Y-%m-%d %H:%M:%S')})\n",
    "table2.head()"
   ]
  },
  {
   "cell_type": "code",
   "execution_count": 171,
   "metadata": {
    "collapsed": false
   },
   "outputs": [
    {
     "data": {
      "text/html": [
       "<table class='petl'>\n",
       "<thead>\n",
       "<tr>\n",
       "<th>DATE</th>\n",
       "<th>VALUE</th>\n",
       "</tr>\n",
       "</thead>\n",
       "<tbody>\n",
       "<tr>\n",
       "<td>None</td>\n",
       "<td style='text-align: right'>243.1</td>\n",
       "</tr>\n",
       "<tr>\n",
       "<td>None</td>\n",
       "<td style='text-align: right'>246.3</td>\n",
       "</tr>\n",
       "<tr>\n",
       "<td>None</td>\n",
       "<td style='text-align: right'>250.1</td>\n",
       "</tr>\n",
       "<tr>\n",
       "<td>None</td>\n",
       "<td style='text-align: right'>260.3</td>\n",
       "</tr>\n",
       "<tr>\n",
       "<td>None</td>\n",
       "<td style='text-align: right'>266.2</td>\n",
       "</tr>\n",
       "</tbody>\n",
       "</table>\n"
      ],
      "text/plain": [
       "+------+-------+\n",
       "| DATE | VALUE |\n",
       "+======+=======+\n",
       "| None | 243.1 |\n",
       "+------+-------+\n",
       "| None | 246.3 |\n",
       "+------+-------+\n",
       "| None | 250.1 |\n",
       "+------+-------+\n",
       "| None | 260.3 |\n",
       "+------+-------+\n",
       "| None | 266.2 |\n",
       "+------+-------+"
      ]
     },
     "execution_count": 171,
     "metadata": {},
     "output_type": "execute_result"
    }
   ],
   "source": [
    "#gdpp.reset_index(level=0, inplace=True)\n",
    "table = etl.fromdataframe(gdpp)\n",
    "table1 = etl.convert(table,{'DATE': etl.datetimeparser('%Y-%m-%d %H:%M:%S') })\n",
    "look(parsecounts(table))\n",
    "table1.head()"
   ]
  },
  {
   "cell_type": "code",
   "execution_count": 188,
   "metadata": {
    "collapsed": false
   },
   "outputs": [
    {
     "data": {
      "text/plain": [
       "+----------------------------------+-------+\n",
       "| DATE                             | VALUE |\n",
       "+==================================+=======+\n",
       "| Timestamp('1947-01-01 00:00:00') | 243.1 |\n",
       "+----------------------------------+-------+\n",
       "| Timestamp('1947-04-01 00:00:00') | 246.3 |\n",
       "+----------------------------------+-------+\n",
       "| Timestamp('1947-07-01 00:00:00') | 250.1 |\n",
       "+----------------------------------+-------+\n",
       "| Timestamp('1947-10-01 00:00:00') | 260.3 |\n",
       "+----------------------------------+-------+\n",
       "| Timestamp('1948-01-01 00:00:00') | 266.2 |\n",
       "+----------------------------------+-------+\n",
       "..."
      ]
     },
     "execution_count": 188,
     "metadata": {},
     "output_type": "execute_result"
    }
   ],
   "source": [
    "#gdpp.reset_index(level=0, inplace=True)\n",
    "table = etl.fromdataframe(gdpp)\n",
    "parsers={'date': etl.datetimeparser('%Y-%m-%d %H:%M:%S')}\n",
    "etl.look(table)"
   ]
  },
  {
   "cell_type": "code",
   "execution_count": 175,
   "metadata": {
    "collapsed": false
   },
   "outputs": [
    {
     "data": {
      "text/html": [
       "<table class='petl'>\n",
       "<thead>\n",
       "<tr>\n",
       "<th>DATE</th>\n",
       "<th>VALUE</th>\n",
       "</tr>\n",
       "</thead>\n",
       "<tbody>\n",
       "<tr>\n",
       "<td>1947-01-01 00:00:00</td>\n",
       "<td style='text-align: right'>243.1</td>\n",
       "</tr>\n",
       "<tr>\n",
       "<td>1947-04-01 00:00:00</td>\n",
       "<td style='text-align: right'>246.3</td>\n",
       "</tr>\n",
       "<tr>\n",
       "<td>1947-07-01 00:00:00</td>\n",
       "<td style='text-align: right'>250.1</td>\n",
       "</tr>\n",
       "<tr>\n",
       "<td>1947-10-01 00:00:00</td>\n",
       "<td style='text-align: right'>260.3</td>\n",
       "</tr>\n",
       "<tr>\n",
       "<td>1948-01-01 00:00:00</td>\n",
       "<td style='text-align: right'>266.2</td>\n",
       "</tr>\n",
       "</tbody>\n",
       "</table>\n"
      ],
      "text/plain": [
       "+----------------------------------+-------+\n",
       "| DATE                             | VALUE |\n",
       "+==================================+=======+\n",
       "| Timestamp('1947-01-01 00:00:00') | 243.1 |\n",
       "+----------------------------------+-------+\n",
       "| Timestamp('1947-04-01 00:00:00') | 246.3 |\n",
       "+----------------------------------+-------+\n",
       "| Timestamp('1947-07-01 00:00:00') | 250.1 |\n",
       "+----------------------------------+-------+\n",
       "| Timestamp('1947-10-01 00:00:00') | 260.3 |\n",
       "+----------------------------------+-------+\n",
       "| Timestamp('1948-01-01 00:00:00') | 266.2 |\n",
       "+----------------------------------+-------+"
      ]
     },
     "execution_count": 175,
     "metadata": {},
     "output_type": "execute_result"
    }
   ],
   "source": [
    "table.head()"
   ]
  },
  {
   "cell_type": "code",
   "execution_count": null,
   "metadata": {
    "collapsed": true
   },
   "outputs": [],
   "source": []
  }
 ],
 "metadata": {
  "kernelspec": {
   "display_name": "Python 3",
   "language": "python",
   "name": "python3"
  },
  "language_info": {
   "codemirror_mode": {
    "name": "ipython",
    "version": 3
   },
   "file_extension": ".py",
   "mimetype": "text/x-python",
   "name": "python",
   "nbconvert_exporter": "python",
   "pygments_lexer": "ipython3",
   "version": "3.5.1"
  }
 },
 "nbformat": 4,
 "nbformat_minor": 0
}
