{
 "cells": [
  {
   "cell_type": "code",
   "execution_count": 99,
   "metadata": {
    "collapsed": false
   },
   "outputs": [],
   "source": [
    "%matplotlib inline\n",
    "import quandl\n",
    "import petl as etl\n",
    "import pandas as pd\n",
    "import matplotlib\n",
    "import matplotlib.pyplot as plt\n",
    "import datetime as dt\n",
    "import json\n",
    "from pprint import pprint"
   ]
  },
  {
   "cell_type": "code",
   "execution_count": 100,
   "metadata": {
    "collapsed": false
   },
   "outputs": [],
   "source": [
    "gdp = quandl.get('FRED/GDP')"
   ]
  },
  {
   "cell_type": "code",
   "execution_count": 110,
   "metadata": {
    "collapsed": false
   },
   "outputs": [],
   "source": [
    "#gdpp = pd.DataFrame(gdp)\n",
    "gdpp"
   ]
  },
  {
   "cell_type": "code",
   "execution_count": 111,
   "metadata": {
    "collapsed": false
   },
   "outputs": [
    {
     "ename": "AssertionError",
     "evalue": "bad argument, expected pandas.DataFrame, found None",
     "output_type": "error",
     "traceback": [
      "\u001b[0;31m------------------------------------------\u001b[0m",
      "\u001b[0;31mAssertionError\u001b[0mTraceback (most recent call last)",
      "\u001b[0;32m<ipython-input-111-c2e7db5f6c47>\u001b[0m in \u001b[0;36m<module>\u001b[0;34m()\u001b[0m\n\u001b[1;32m      1\u001b[0m \u001b[0;31m#gdpp = gdpp.reset_index(level=0, inplace=True)\u001b[0m\u001b[0;34m\u001b[0m\u001b[0;34m\u001b[0m\u001b[0m\n\u001b[0;32m----> 2\u001b[0;31m \u001b[0mtable\u001b[0m \u001b[0;34m=\u001b[0m \u001b[0metl\u001b[0m\u001b[0;34m.\u001b[0m\u001b[0mfromdataframe\u001b[0m\u001b[0;34m(\u001b[0m\u001b[0mgdpp\u001b[0m\u001b[0;34m)\u001b[0m\u001b[0;34m\u001b[0m\u001b[0m\n\u001b[0m\u001b[1;32m      3\u001b[0m \u001b[0mtable\u001b[0m\u001b[0;34m.\u001b[0m\u001b[0mhead\u001b[0m\u001b[0;34m(\u001b[0m\u001b[0;34m)\u001b[0m\u001b[0;34m\u001b[0m\u001b[0m\n",
      "\u001b[0;32m/Users/skilbjo/.virtualenvs/economics/lib/python3.5/site-packages/petl/io/pandas.py\u001b[0m in \u001b[0;36mfromdataframe\u001b[0;34m(df, include_index)\u001b[0m\n\u001b[1;32m     65\u001b[0m     \"\"\"\n\u001b[1;32m     66\u001b[0m \u001b[0;34m\u001b[0m\u001b[0m\n\u001b[0;32m---> 67\u001b[0;31m     \u001b[0;32mreturn\u001b[0m \u001b[0mDataFrameView\u001b[0m\u001b[0;34m(\u001b[0m\u001b[0mdf\u001b[0m\u001b[0;34m,\u001b[0m \u001b[0minclude_index\u001b[0m\u001b[0;34m=\u001b[0m\u001b[0minclude_index\u001b[0m\u001b[0;34m)\u001b[0m\u001b[0;34m\u001b[0m\u001b[0m\n\u001b[0m\u001b[1;32m     68\u001b[0m \u001b[0;34m\u001b[0m\u001b[0m\n\u001b[1;32m     69\u001b[0m \u001b[0;34m\u001b[0m\u001b[0m\n",
      "\u001b[0;32m/Users/skilbjo/.virtualenvs/economics/lib/python3.5/site-packages/petl/io/pandas.py\u001b[0m in \u001b[0;36m__init__\u001b[0;34m(self, df, include_index)\u001b[0m\n\u001b[1;32m     74\u001b[0m             \u001b[0;32mand\u001b[0m \u001b[0mhasattr\u001b[0m\u001b[0;34m(\u001b[0m\u001b[0mdf\u001b[0m\u001b[0;34m,\u001b[0m \u001b[0;34m'iterrows'\u001b[0m\u001b[0;34m)\u001b[0m\u001b[0;31m \u001b[0m\u001b[0;31m\\\u001b[0m\u001b[0;34m\u001b[0m\u001b[0m\n\u001b[1;32m     75\u001b[0m             \u001b[0;32mand\u001b[0m \u001b[0minspect\u001b[0m\u001b[0;34m.\u001b[0m\u001b[0mismethod\u001b[0m\u001b[0;34m(\u001b[0m\u001b[0mdf\u001b[0m\u001b[0;34m.\u001b[0m\u001b[0miterrows\u001b[0m\u001b[0;34m)\u001b[0m\u001b[0;34m,\u001b[0m\u001b[0;31m \u001b[0m\u001b[0;31m\\\u001b[0m\u001b[0;34m\u001b[0m\u001b[0m\n\u001b[0;32m---> 76\u001b[0;31m             \u001b[0;34m'bad argument, expected pandas.DataFrame, found %r'\u001b[0m \u001b[0;34m%\u001b[0m \u001b[0mdf\u001b[0m\u001b[0;34m\u001b[0m\u001b[0m\n\u001b[0m\u001b[1;32m     77\u001b[0m         \u001b[0mself\u001b[0m\u001b[0;34m.\u001b[0m\u001b[0mdf\u001b[0m \u001b[0;34m=\u001b[0m \u001b[0mdf\u001b[0m\u001b[0;34m\u001b[0m\u001b[0m\n\u001b[1;32m     78\u001b[0m         \u001b[0mself\u001b[0m\u001b[0;34m.\u001b[0m\u001b[0minclude_index\u001b[0m \u001b[0;34m=\u001b[0m \u001b[0minclude_index\u001b[0m\u001b[0;34m\u001b[0m\u001b[0m\n",
      "\u001b[0;31mAssertionError\u001b[0m: bad argument, expected pandas.DataFrame, found None"
     ]
    }
   ],
   "source": [
    "#gdpp = gdpp.reset_index(level=0, inplace=True)\n",
    "table = etl.fromdataframe(gdpp)\n",
    "table.head()"
   ]
  },
  {
   "cell_type": "code",
   "execution_count": 105,
   "metadata": {
    "collapsed": false
   },
   "outputs": [],
   "source": [
    "isodatetime = etl.datetimeparser(\"%Y-%m-%d %H:%M:%S\", strict=False)\n",
    "table1 = etl.convert(table,'DATE', lambda d: isodatetime(d).date() )"
   ]
  },
  {
   "cell_type": "code",
   "execution_count": 106,
   "metadata": {
    "collapsed": false
   },
   "outputs": [
    {
     "data": {
      "text/plain": [
       "+----------------------------+-------+\n",
       "| DATE                       | VALUE |\n",
       "+============================+=======+\n",
       "| datetime.date(1947, 1, 1)  | 243.1 |\n",
       "+----------------------------+-------+\n",
       "| datetime.date(1947, 4, 1)  | 246.3 |\n",
       "+----------------------------+-------+\n",
       "| datetime.date(1947, 7, 1)  | 250.1 |\n",
       "+----------------------------+-------+\n",
       "| datetime.date(1947, 10, 1) | 260.3 |\n",
       "+----------------------------+-------+\n",
       "| datetime.date(1948, 1, 1)  | 266.2 |\n",
       "+----------------------------+-------+\n",
       "..."
      ]
     },
     "execution_count": 106,
     "metadata": {},
     "output_type": "execute_result"
    }
   ],
   "source": [
    "etl.look(table1)"
   ]
  },
  {
   "cell_type": "code",
   "execution_count": 175,
   "metadata": {
    "collapsed": false
   },
   "outputs": [
    {
     "data": {
      "text/html": [
       "<table class='petl'>\n",
       "<thead>\n",
       "<tr>\n",
       "<th>DATE</th>\n",
       "<th>VALUE</th>\n",
       "</tr>\n",
       "</thead>\n",
       "<tbody>\n",
       "<tr>\n",
       "<td>1947-01-01 00:00:00</td>\n",
       "<td style='text-align: right'>243.1</td>\n",
       "</tr>\n",
       "<tr>\n",
       "<td>1947-04-01 00:00:00</td>\n",
       "<td style='text-align: right'>246.3</td>\n",
       "</tr>\n",
       "<tr>\n",
       "<td>1947-07-01 00:00:00</td>\n",
       "<td style='text-align: right'>250.1</td>\n",
       "</tr>\n",
       "<tr>\n",
       "<td>1947-10-01 00:00:00</td>\n",
       "<td style='text-align: right'>260.3</td>\n",
       "</tr>\n",
       "<tr>\n",
       "<td>1948-01-01 00:00:00</td>\n",
       "<td style='text-align: right'>266.2</td>\n",
       "</tr>\n",
       "</tbody>\n",
       "</table>\n"
      ],
      "text/plain": [
       "+----------------------------------+-------+\n",
       "| DATE                             | VALUE |\n",
       "+==================================+=======+\n",
       "| Timestamp('1947-01-01 00:00:00') | 243.1 |\n",
       "+----------------------------------+-------+\n",
       "| Timestamp('1947-04-01 00:00:00') | 246.3 |\n",
       "+----------------------------------+-------+\n",
       "| Timestamp('1947-07-01 00:00:00') | 250.1 |\n",
       "+----------------------------------+-------+\n",
       "| Timestamp('1947-10-01 00:00:00') | 260.3 |\n",
       "+----------------------------------+-------+\n",
       "| Timestamp('1948-01-01 00:00:00') | 266.2 |\n",
       "+----------------------------------+-------+"
      ]
     },
     "execution_count": 175,
     "metadata": {},
     "output_type": "execute_result"
    }
   ],
   "source": [
    "#gdpp.reset_index(level=0, inplace=True)\n",
    "table = etl.fromdataframe(gdpp)\n",
    "parsers={'date': etl.datetimeparser('%Y-%m-%d %H:%M:%S')}\n",
    "etl.look(table)"
   ]
  },
  {
   "cell_type": "code",
   "execution_count": null,
   "metadata": {
    "collapsed": true
   },
   "outputs": [],
   "source": []
  }
 ],
 "metadata": {
  "kernelspec": {
   "display_name": "Python 3",
   "language": "python",
   "name": "python3"
  },
  "language_info": {
   "codemirror_mode": {
    "name": "ipython",
    "version": 3
   },
   "file_extension": ".py",
   "mimetype": "text/x-python",
   "name": "python",
   "nbconvert_exporter": "python",
   "pygments_lexer": "ipython3",
   "version": "3.5.1"
  }
 },
 "nbformat": 4,
 "nbformat_minor": 0
}
